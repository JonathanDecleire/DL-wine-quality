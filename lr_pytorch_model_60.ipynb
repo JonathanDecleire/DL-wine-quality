{
 "cells": [
  {
   "cell_type": "code",
   "execution_count": 1,
   "metadata": {},
   "outputs": [],
   "source": [
    "import os\n",
    "os.environ['KMP_DUPLICATE_LIB_OK'] = 'TRUE'"
   ]
  },
  {
   "cell_type": "code",
   "execution_count": 6,
   "metadata": {},
   "outputs": [],
   "source": [
    "# import modules\n",
    "\n",
    "import pandas as pd\n",
    "import numpy as np\n",
    "import matplotlib.pyplot as plt\n",
    "import seaborn as sns\n",
    "\n",
    "import torch\n",
    "#import jovian\n",
    "import torchvision\n",
    "import torch.nn as nn\n",
    "import torch.nn.functional as F\n",
    "from torchvision.datasets.utils import download_url\n",
    "from torch.utils.data import DataLoader, TensorDataset, random_split\n",
    "\n",
    "\n",
    "%matplotlib inline"
   ]
  },
  {
   "cell_type": "code",
   "execution_count": 3,
   "metadata": {},
   "outputs": [],
   "source": [
    "# load dataset\n",
    "\n",
    "df = pd.read_csv('wine.csv')"
   ]
  },
  {
   "cell_type": "code",
   "execution_count": 4,
   "metadata": {},
   "outputs": [
    {
     "data": {
      "text/html": [
       "<div>\n",
       "<style scoped>\n",
       "    .dataframe tbody tr th:only-of-type {\n",
       "        vertical-align: middle;\n",
       "    }\n",
       "\n",
       "    .dataframe tbody tr th {\n",
       "        vertical-align: top;\n",
       "    }\n",
       "\n",
       "    .dataframe thead th {\n",
       "        text-align: right;\n",
       "    }\n",
       "</style>\n",
       "<table border=\"1\" class=\"dataframe\">\n",
       "  <thead>\n",
       "    <tr style=\"text-align: right;\">\n",
       "      <th></th>\n",
       "      <th>index</th>\n",
       "      <th>fixed acidity</th>\n",
       "      <th>volatile acidity</th>\n",
       "      <th>citric acid</th>\n",
       "      <th>residual sugar</th>\n",
       "      <th>chlorides</th>\n",
       "      <th>free sulfur dioxide</th>\n",
       "      <th>total sulfur dioxide</th>\n",
       "      <th>density</th>\n",
       "      <th>pH</th>\n",
       "      <th>sulphates</th>\n",
       "      <th>alcohol</th>\n",
       "      <th>quality</th>\n",
       "    </tr>\n",
       "  </thead>\n",
       "  <tbody>\n",
       "    <tr>\n",
       "      <th>0</th>\n",
       "      <td>0</td>\n",
       "      <td>7.4</td>\n",
       "      <td>0.70</td>\n",
       "      <td>0.00</td>\n",
       "      <td>1.9</td>\n",
       "      <td>0.076</td>\n",
       "      <td>11.0</td>\n",
       "      <td>34.0</td>\n",
       "      <td>0.99780</td>\n",
       "      <td>3.51</td>\n",
       "      <td>0.56</td>\n",
       "      <td>9.4</td>\n",
       "      <td>5</td>\n",
       "    </tr>\n",
       "    <tr>\n",
       "      <th>1</th>\n",
       "      <td>1</td>\n",
       "      <td>7.8</td>\n",
       "      <td>0.88</td>\n",
       "      <td>0.00</td>\n",
       "      <td>2.6</td>\n",
       "      <td>0.098</td>\n",
       "      <td>25.0</td>\n",
       "      <td>67.0</td>\n",
       "      <td>0.99680</td>\n",
       "      <td>3.20</td>\n",
       "      <td>0.68</td>\n",
       "      <td>9.8</td>\n",
       "      <td>5</td>\n",
       "    </tr>\n",
       "    <tr>\n",
       "      <th>2</th>\n",
       "      <td>2</td>\n",
       "      <td>7.8</td>\n",
       "      <td>0.76</td>\n",
       "      <td>0.04</td>\n",
       "      <td>2.3</td>\n",
       "      <td>0.092</td>\n",
       "      <td>15.0</td>\n",
       "      <td>54.0</td>\n",
       "      <td>0.99700</td>\n",
       "      <td>3.26</td>\n",
       "      <td>0.65</td>\n",
       "      <td>9.8</td>\n",
       "      <td>5</td>\n",
       "    </tr>\n",
       "    <tr>\n",
       "      <th>3</th>\n",
       "      <td>3</td>\n",
       "      <td>11.2</td>\n",
       "      <td>0.28</td>\n",
       "      <td>0.56</td>\n",
       "      <td>1.9</td>\n",
       "      <td>0.075</td>\n",
       "      <td>17.0</td>\n",
       "      <td>60.0</td>\n",
       "      <td>0.99800</td>\n",
       "      <td>3.16</td>\n",
       "      <td>0.58</td>\n",
       "      <td>9.8</td>\n",
       "      <td>6</td>\n",
       "    </tr>\n",
       "    <tr>\n",
       "      <th>4</th>\n",
       "      <td>4</td>\n",
       "      <td>7.4</td>\n",
       "      <td>0.70</td>\n",
       "      <td>0.00</td>\n",
       "      <td>1.9</td>\n",
       "      <td>0.076</td>\n",
       "      <td>11.0</td>\n",
       "      <td>34.0</td>\n",
       "      <td>0.99780</td>\n",
       "      <td>3.51</td>\n",
       "      <td>0.56</td>\n",
       "      <td>9.4</td>\n",
       "      <td>5</td>\n",
       "    </tr>\n",
       "    <tr>\n",
       "      <th>...</th>\n",
       "      <td>...</td>\n",
       "      <td>...</td>\n",
       "      <td>...</td>\n",
       "      <td>...</td>\n",
       "      <td>...</td>\n",
       "      <td>...</td>\n",
       "      <td>...</td>\n",
       "      <td>...</td>\n",
       "      <td>...</td>\n",
       "      <td>...</td>\n",
       "      <td>...</td>\n",
       "      <td>...</td>\n",
       "      <td>...</td>\n",
       "    </tr>\n",
       "    <tr>\n",
       "      <th>6492</th>\n",
       "      <td>4893</td>\n",
       "      <td>6.2</td>\n",
       "      <td>0.21</td>\n",
       "      <td>0.29</td>\n",
       "      <td>1.6</td>\n",
       "      <td>0.039</td>\n",
       "      <td>24.0</td>\n",
       "      <td>92.0</td>\n",
       "      <td>0.99114</td>\n",
       "      <td>3.27</td>\n",
       "      <td>0.50</td>\n",
       "      <td>11.2</td>\n",
       "      <td>6</td>\n",
       "    </tr>\n",
       "    <tr>\n",
       "      <th>6493</th>\n",
       "      <td>4894</td>\n",
       "      <td>6.6</td>\n",
       "      <td>0.32</td>\n",
       "      <td>0.36</td>\n",
       "      <td>8.0</td>\n",
       "      <td>0.047</td>\n",
       "      <td>57.0</td>\n",
       "      <td>168.0</td>\n",
       "      <td>0.99490</td>\n",
       "      <td>3.15</td>\n",
       "      <td>0.46</td>\n",
       "      <td>9.6</td>\n",
       "      <td>5</td>\n",
       "    </tr>\n",
       "    <tr>\n",
       "      <th>6494</th>\n",
       "      <td>4895</td>\n",
       "      <td>6.5</td>\n",
       "      <td>0.24</td>\n",
       "      <td>0.19</td>\n",
       "      <td>1.2</td>\n",
       "      <td>0.041</td>\n",
       "      <td>30.0</td>\n",
       "      <td>111.0</td>\n",
       "      <td>0.99254</td>\n",
       "      <td>2.99</td>\n",
       "      <td>0.46</td>\n",
       "      <td>9.4</td>\n",
       "      <td>6</td>\n",
       "    </tr>\n",
       "    <tr>\n",
       "      <th>6495</th>\n",
       "      <td>4896</td>\n",
       "      <td>5.5</td>\n",
       "      <td>0.29</td>\n",
       "      <td>0.30</td>\n",
       "      <td>1.1</td>\n",
       "      <td>0.022</td>\n",
       "      <td>20.0</td>\n",
       "      <td>110.0</td>\n",
       "      <td>0.98869</td>\n",
       "      <td>3.34</td>\n",
       "      <td>0.38</td>\n",
       "      <td>12.8</td>\n",
       "      <td>7</td>\n",
       "    </tr>\n",
       "    <tr>\n",
       "      <th>6496</th>\n",
       "      <td>4897</td>\n",
       "      <td>6.0</td>\n",
       "      <td>0.21</td>\n",
       "      <td>0.38</td>\n",
       "      <td>0.8</td>\n",
       "      <td>0.020</td>\n",
       "      <td>22.0</td>\n",
       "      <td>98.0</td>\n",
       "      <td>0.98941</td>\n",
       "      <td>3.26</td>\n",
       "      <td>0.32</td>\n",
       "      <td>11.8</td>\n",
       "      <td>6</td>\n",
       "    </tr>\n",
       "  </tbody>\n",
       "</table>\n",
       "<p>6497 rows × 13 columns</p>\n",
       "</div>"
      ],
      "text/plain": [
       "      index  fixed acidity  volatile acidity  citric acid  residual sugar  \\\n",
       "0         0            7.4              0.70         0.00             1.9   \n",
       "1         1            7.8              0.88         0.00             2.6   \n",
       "2         2            7.8              0.76         0.04             2.3   \n",
       "3         3           11.2              0.28         0.56             1.9   \n",
       "4         4            7.4              0.70         0.00             1.9   \n",
       "...     ...            ...               ...          ...             ...   \n",
       "6492   4893            6.2              0.21         0.29             1.6   \n",
       "6493   4894            6.6              0.32         0.36             8.0   \n",
       "6494   4895            6.5              0.24         0.19             1.2   \n",
       "6495   4896            5.5              0.29         0.30             1.1   \n",
       "6496   4897            6.0              0.21         0.38             0.8   \n",
       "\n",
       "      chlorides  free sulfur dioxide  total sulfur dioxide  density    pH  \\\n",
       "0         0.076                 11.0                  34.0  0.99780  3.51   \n",
       "1         0.098                 25.0                  67.0  0.99680  3.20   \n",
       "2         0.092                 15.0                  54.0  0.99700  3.26   \n",
       "3         0.075                 17.0                  60.0  0.99800  3.16   \n",
       "4         0.076                 11.0                  34.0  0.99780  3.51   \n",
       "...         ...                  ...                   ...      ...   ...   \n",
       "6492      0.039                 24.0                  92.0  0.99114  3.27   \n",
       "6493      0.047                 57.0                 168.0  0.99490  3.15   \n",
       "6494      0.041                 30.0                 111.0  0.99254  2.99   \n",
       "6495      0.022                 20.0                 110.0  0.98869  3.34   \n",
       "6496      0.020                 22.0                  98.0  0.98941  3.26   \n",
       "\n",
       "      sulphates  alcohol  quality  \n",
       "0          0.56      9.4        5  \n",
       "1          0.68      9.8        5  \n",
       "2          0.65      9.8        5  \n",
       "3          0.58      9.8        6  \n",
       "4          0.56      9.4        5  \n",
       "...         ...      ...      ...  \n",
       "6492       0.50     11.2        6  \n",
       "6493       0.46      9.6        5  \n",
       "6494       0.46      9.4        6  \n",
       "6495       0.38     12.8        7  \n",
       "6496       0.32     11.8        6  \n",
       "\n",
       "[6497 rows x 13 columns]"
      ]
     },
     "execution_count": 4,
     "metadata": {},
     "output_type": "execute_result"
    }
   ],
   "source": [
    "df"
   ]
  },
  {
   "cell_type": "code",
   "execution_count": 7,
   "metadata": {},
   "outputs": [
    {
     "data": {
      "text/plain": [
       "'\\nWe will be analyzing the dataset by using Linear Regression with the pytorch module\\nSimple linear regression is an approach for predicting a response using a single \\nfeature. It is assumed that the two variables are linearly related.\\n'"
      ]
     },
     "execution_count": 7,
     "metadata": {},
     "output_type": "execute_result"
    }
   ],
   "source": [
    "'''\n",
    "We will be analyzing the dataset by using Linear Regression with the pytorch module\n",
    "Simple linear regression is an approach for predicting a response using a single \n",
    "feature. It is assumed that the two variables are linearly related.\n",
    "'''\n"
   ]
  },
  {
   "cell_type": "code",
   "execution_count": 25,
   "metadata": {},
   "outputs": [
    {
     "data": {
      "text/plain": [
       "(['fixed acidity',\n",
       "  'volatile acidity',\n",
       "  'citric acid',\n",
       "  'residual sugar',\n",
       "  'chlorides',\n",
       "  'free sulfur dioxide',\n",
       "  'total sulfur dioxide',\n",
       "  'density',\n",
       "  'pH',\n",
       "  'sulphates',\n",
       "  'alcohol'],\n",
       " ['quality'])"
      ]
     },
     "execution_count": 25,
     "metadata": {},
     "output_type": "execute_result"
    }
   ],
   "source": [
    "input_cols = list(df.columns)[1:-1]\n",
    "output_cols = ['quality']\n",
    "input_cols, output_cols\n",
    "\n",
    "# X = df.iloc[:,:-1].values # features\n",
    "# Y = df.iloc[:,-1].values # dependent variable\n",
    "# X, Y"
   ]
  },
  {
   "cell_type": "code",
   "execution_count": 28,
   "metadata": {},
   "outputs": [],
   "source": [
    "def df_to_arrays(df):\n",
    "    df1 = df.copy(deep=True)\n",
    "    inputs_array = df1[input_cols].to_numpy()\n",
    "    targets_array = df1[output_cols].to_numpy()\n",
    "    return inputs_array, targets_array"
   ]
  },
  {
   "cell_type": "code",
   "execution_count": 29,
   "metadata": {},
   "outputs": [
    {
     "data": {
      "text/plain": [
       "(array([[ 7.4 ,  0.7 ,  0.  , ...,  3.51,  0.56,  9.4 ],\n",
       "        [ 7.8 ,  0.88,  0.  , ...,  3.2 ,  0.68,  9.8 ],\n",
       "        [ 7.8 ,  0.76,  0.04, ...,  3.26,  0.65,  9.8 ],\n",
       "        ...,\n",
       "        [ 6.5 ,  0.24,  0.19, ...,  2.99,  0.46,  9.4 ],\n",
       "        [ 5.5 ,  0.29,  0.3 , ...,  3.34,  0.38, 12.8 ],\n",
       "        [ 6.  ,  0.21,  0.38, ...,  3.26,  0.32, 11.8 ]]),\n",
       " array([[5],\n",
       "        [5],\n",
       "        [5],\n",
       "        ...,\n",
       "        [6],\n",
       "        [7],\n",
       "        [6]], dtype=int64))"
      ]
     },
     "execution_count": 29,
     "metadata": {},
     "output_type": "execute_result"
    }
   ],
   "source": [
    "inputs_array, targets_array = df_to_arrays(df)\n",
    "inputs_array, targets_array"
   ]
  },
  {
   "cell_type": "code",
   "execution_count": 30,
   "metadata": {},
   "outputs": [
    {
     "data": {
      "text/plain": [
       "(tensor([[ 7.4000,  0.7000,  0.0000,  ...,  3.5100,  0.5600,  9.4000],\n",
       "         [ 7.8000,  0.8800,  0.0000,  ...,  3.2000,  0.6800,  9.8000],\n",
       "         [ 7.8000,  0.7600,  0.0400,  ...,  3.2600,  0.6500,  9.8000],\n",
       "         ...,\n",
       "         [ 6.5000,  0.2400,  0.1900,  ...,  2.9900,  0.4600,  9.4000],\n",
       "         [ 5.5000,  0.2900,  0.3000,  ...,  3.3400,  0.3800, 12.8000],\n",
       "         [ 6.0000,  0.2100,  0.3800,  ...,  3.2600,  0.3200, 11.8000]]),\n",
       " tensor([[5.],\n",
       "         [5.],\n",
       "         [5.],\n",
       "         ...,\n",
       "         [6.],\n",
       "         [7.],\n",
       "         [6.]]))"
      ]
     },
     "execution_count": 30,
     "metadata": {},
     "output_type": "execute_result"
    }
   ],
   "source": [
    "inputs = torch.from_numpy(inputs_array).type(torch.float)\n",
    "targets = torch.from_numpy(targets_array).type(torch.float)\n",
    "inputs, targets"
   ]
  },
  {
   "cell_type": "code",
   "execution_count": 31,
   "metadata": {},
   "outputs": [
    {
     "name": "stdout",
     "output_type": "stream",
     "text": [
      "Shape of input tensor and target tensor::   torch.Size([6497, 11]) torch.Size([6497, 1])\n",
      "datatype of input tensor and target tensor::   torch.float32 torch.float32\n"
     ]
    }
   ],
   "source": [
    "print('Shape of input tensor and target tensor::  ',inputs.shape, targets.shape)\n",
    "print('datatype of input tensor and target tensor::  ',inputs.dtype, targets.dtype)"
   ]
  },
  {
   "cell_type": "code",
   "execution_count": 32,
   "metadata": {},
   "outputs": [
    {
     "data": {
      "text/plain": [
       "<torch.utils.data.dataset.TensorDataset at 0x23ac7756ec8>"
      ]
     },
     "execution_count": 32,
     "metadata": {},
     "output_type": "execute_result"
    }
   ],
   "source": [
    "dataset = TensorDataset(inputs, targets)\n",
    "dataset"
   ]
  },
  {
   "cell_type": "code",
   "execution_count": 33,
   "metadata": {},
   "outputs": [],
   "source": [
    "train_ds, val_ds = random_split(dataset, [5200, 1297])\n",
    "batch_size = 200\n",
    "train_loader = DataLoader(train_ds, batch_size, shuffle=True)\n",
    "val_loader = DataLoader(val_ds, batch_size)"
   ]
  },
  {
   "cell_type": "code",
   "execution_count": 35,
   "metadata": {},
   "outputs": [
    {
     "name": "stdout",
     "output_type": "stream",
     "text": [
      "inputs: tensor([[ 6.3000,  0.3400,  0.2800,  ...,  3.2300,  0.4600,  9.5000],\n",
      "        [ 6.8000,  0.4100,  0.3100,  ...,  3.3800,  0.6400, 10.1000],\n",
      "        [ 6.7000,  0.1800,  0.3000,  ...,  3.2900,  0.5200, 10.0000],\n",
      "        ...,\n",
      "        [ 4.8000,  0.3300,  0.0000,  ...,  3.3500,  0.6100,  9.9000],\n",
      "        [ 6.0000,  0.5000,  0.0000,  ...,  3.3600,  0.4500,  9.5000],\n",
      "        [ 6.6000,  0.4000,  0.3000,  ...,  3.3600,  0.7300, 12.6000]])\n",
      "targets: tensor([[5.],\n",
      "        [6.],\n",
      "        [5.],\n",
      "        [5.],\n",
      "        [6.],\n",
      "        [6.],\n",
      "        [5.],\n",
      "        [6.],\n",
      "        [6.],\n",
      "        [5.],\n",
      "        [5.],\n",
      "        [5.],\n",
      "        [6.],\n",
      "        [5.],\n",
      "        [6.],\n",
      "        [5.],\n",
      "        [8.],\n",
      "        [6.],\n",
      "        [6.],\n",
      "        [3.],\n",
      "        [6.],\n",
      "        [5.],\n",
      "        [5.],\n",
      "        [5.],\n",
      "        [6.],\n",
      "        [6.],\n",
      "        [7.],\n",
      "        [6.],\n",
      "        [6.],\n",
      "        [5.],\n",
      "        [6.],\n",
      "        [5.],\n",
      "        [6.],\n",
      "        [7.],\n",
      "        [5.],\n",
      "        [6.],\n",
      "        [5.],\n",
      "        [5.],\n",
      "        [4.],\n",
      "        [6.],\n",
      "        [4.],\n",
      "        [6.],\n",
      "        [5.],\n",
      "        [5.],\n",
      "        [5.],\n",
      "        [5.],\n",
      "        [6.],\n",
      "        [6.],\n",
      "        [6.],\n",
      "        [3.],\n",
      "        [6.],\n",
      "        [6.],\n",
      "        [6.],\n",
      "        [5.],\n",
      "        [5.],\n",
      "        [5.],\n",
      "        [4.],\n",
      "        [5.],\n",
      "        [6.],\n",
      "        [7.],\n",
      "        [6.],\n",
      "        [5.],\n",
      "        [5.],\n",
      "        [6.],\n",
      "        [7.],\n",
      "        [5.],\n",
      "        [7.],\n",
      "        [7.],\n",
      "        [6.],\n",
      "        [7.],\n",
      "        [7.],\n",
      "        [6.],\n",
      "        [7.],\n",
      "        [6.],\n",
      "        [5.],\n",
      "        [5.],\n",
      "        [7.],\n",
      "        [5.],\n",
      "        [5.],\n",
      "        [6.],\n",
      "        [5.],\n",
      "        [8.],\n",
      "        [7.],\n",
      "        [6.],\n",
      "        [6.],\n",
      "        [6.],\n",
      "        [6.],\n",
      "        [6.],\n",
      "        [6.],\n",
      "        [6.],\n",
      "        [5.],\n",
      "        [3.],\n",
      "        [6.],\n",
      "        [6.],\n",
      "        [7.],\n",
      "        [6.],\n",
      "        [6.],\n",
      "        [5.],\n",
      "        [6.],\n",
      "        [8.],\n",
      "        [7.],\n",
      "        [6.],\n",
      "        [6.],\n",
      "        [6.],\n",
      "        [6.],\n",
      "        [6.],\n",
      "        [8.],\n",
      "        [6.],\n",
      "        [6.],\n",
      "        [6.],\n",
      "        [6.],\n",
      "        [6.],\n",
      "        [7.],\n",
      "        [7.],\n",
      "        [6.],\n",
      "        [6.],\n",
      "        [6.],\n",
      "        [6.],\n",
      "        [6.],\n",
      "        [6.],\n",
      "        [5.],\n",
      "        [7.],\n",
      "        [6.],\n",
      "        [7.],\n",
      "        [5.],\n",
      "        [5.],\n",
      "        [6.],\n",
      "        [7.],\n",
      "        [6.],\n",
      "        [5.],\n",
      "        [5.],\n",
      "        [6.],\n",
      "        [6.],\n",
      "        [6.],\n",
      "        [5.],\n",
      "        [6.],\n",
      "        [6.],\n",
      "        [5.],\n",
      "        [7.],\n",
      "        [4.],\n",
      "        [6.],\n",
      "        [6.],\n",
      "        [5.],\n",
      "        [6.],\n",
      "        [5.],\n",
      "        [5.],\n",
      "        [7.],\n",
      "        [5.],\n",
      "        [5.],\n",
      "        [5.],\n",
      "        [8.],\n",
      "        [6.],\n",
      "        [5.],\n",
      "        [6.],\n",
      "        [6.],\n",
      "        [6.],\n",
      "        [6.],\n",
      "        [6.],\n",
      "        [4.],\n",
      "        [7.],\n",
      "        [5.],\n",
      "        [7.],\n",
      "        [6.],\n",
      "        [6.],\n",
      "        [5.],\n",
      "        [6.],\n",
      "        [7.],\n",
      "        [6.],\n",
      "        [5.],\n",
      "        [5.],\n",
      "        [7.],\n",
      "        [6.],\n",
      "        [6.],\n",
      "        [6.],\n",
      "        [6.],\n",
      "        [7.],\n",
      "        [6.],\n",
      "        [5.],\n",
      "        [6.],\n",
      "        [6.],\n",
      "        [5.],\n",
      "        [6.],\n",
      "        [6.],\n",
      "        [6.],\n",
      "        [6.],\n",
      "        [7.],\n",
      "        [6.],\n",
      "        [3.],\n",
      "        [5.],\n",
      "        [6.],\n",
      "        [5.],\n",
      "        [7.],\n",
      "        [6.],\n",
      "        [7.],\n",
      "        [5.],\n",
      "        [8.],\n",
      "        [5.],\n",
      "        [5.],\n",
      "        [5.],\n",
      "        [6.]])\n"
     ]
    }
   ],
   "source": [
    "for xb, yb in train_loader:\n",
    "    print('inputs:', xb)\n",
    "    print('targets:', yb)\n",
    "    break"
   ]
  },
  {
   "cell_type": "code",
   "execution_count": 36,
   "metadata": {},
   "outputs": [
    {
     "name": "stdout",
     "output_type": "stream",
     "text": [
      "torch.float32 torch.float32\n"
     ]
    }
   ],
   "source": [
    "print(xb.dtype, yb.dtype)"
   ]
  },
  {
   "cell_type": "code",
   "execution_count": 34,
   "metadata": {},
   "outputs": [
    {
     "data": {
      "text/plain": [
       "(11, 1)"
      ]
     },
     "execution_count": 34,
     "metadata": {},
     "output_type": "execute_result"
    }
   ],
   "source": [
    "input_size = len(input_cols)\n",
    "output_size = len(output_cols)\n",
    "input_size, output_size"
   ]
  },
  {
   "cell_type": "code",
   "execution_count": 37,
   "metadata": {},
   "outputs": [],
   "source": [
    "class WineQuality(nn.Module):\n",
    "    def __init__(self):\n",
    "        super().__init__()\n",
    "        self.linear = nn.Linear(input_size, output_size)\n",
    "        \n",
    "    def forward(self, xb):\n",
    "        out = self.linear(xb)\n",
    "        return out\n",
    "    \n",
    "    def training_step(self, batch):\n",
    "        inputs, targets = batch\n",
    "        out = self(inputs)\n",
    "        loss = F.l1_loss(out, targets)\n",
    "        return loss\n",
    "    \n",
    "    def validation_step(self, batch):\n",
    "        inputs, targets = batch\n",
    "        out = self(inputs)\n",
    "        loss = F.l1_loss(out, targets)\n",
    "        return {'val_loss': loss.detach()}\n",
    "    \n",
    "    def validation_epoch_end(self, outputs):\n",
    "        batch_losses = [x['val_loss'] for x in outputs]\n",
    "        epoch_loss = torch.stack(batch_losses).mean()\n",
    "        return {'val_loss': epoch_loss.item()}\n",
    "    \n",
    "    def epoch_end(self, epoch, result, num_epochs):\n",
    "        if (epoch+1) % 100 == 0 or epoch == num_epochs-1:\n",
    "            print('Epoch [{}], val_loss: {:.4f}'.format(epoch+1, result['val_loss']))"
   ]
  },
  {
   "cell_type": "code",
   "execution_count": 38,
   "metadata": {},
   "outputs": [],
   "source": [
    "model = WineQuality()"
   ]
  },
  {
   "cell_type": "code",
   "execution_count": 39,
   "metadata": {},
   "outputs": [],
   "source": [
    "def evaluate(model, val_loader):\n",
    "    outputs = [model.validation_step(batch) for batch in val_loader]\n",
    "    return model.validation_epoch_end(outputs)\n",
    "\n",
    "def fit(epochs, lr, model, train_loader, val_loader, opt_func=torch.optim.SGD):\n",
    "    history = []\n",
    "    optimizer = opt_func(model.parameters(), lr)\n",
    "    for epoch in range(epochs):\n",
    "        for batch in train_loader:\n",
    "            loss = model.training_step(batch)\n",
    "            loss.backward()\n",
    "            optimizer.step()\n",
    "            optimizer.zero_grad()\n",
    "        result = evaluate(model, val_loader)\n",
    "        model.epoch_end(epoch, result, epochs)\n",
    "        history.append(result)\n",
    "    return history"
   ]
  },
  {
   "cell_type": "code",
   "execution_count": 40,
   "metadata": {},
   "outputs": [
    {
     "name": "stderr",
     "output_type": "stream",
     "text": [
      "C:\\Users\\ACER\\miniconda3\\envs\\pytorch\\lib\\site-packages\\torch\\autograd\\__init__.py:132: UserWarning: CUDA initialization: Found no NVIDIA driver on your system. Please check that you have an NVIDIA GPU and installed a driver from http://www.nvidia.com/Download/index.aspx (Triggered internally at  ..\\c10\\cuda\\CUDAFunctions.cpp:100.)\n",
      "  allow_unreachable=True)  # allow_unreachable flag\n"
     ]
    },
    {
     "name": "stdout",
     "output_type": "stream",
     "text": [
      "Epoch [100], val_loss: 3.0075\n",
      "Epoch [200], val_loss: 2.8788\n",
      "Epoch [300], val_loss: 2.7561\n",
      "Epoch [400], val_loss: 2.6336\n",
      "Epoch [500], val_loss: 2.5185\n",
      "Epoch [600], val_loss: 2.4081\n",
      "Epoch [700], val_loss: 2.3009\n",
      "Epoch [800], val_loss: 2.1987\n",
      "Epoch [900], val_loss: 2.0994\n",
      "Epoch [1000], val_loss: 2.0046\n",
      "Epoch [1100], val_loss: 1.9131\n",
      "Epoch [1200], val_loss: 1.8265\n",
      "Epoch [1300], val_loss: 1.7434\n",
      "Epoch [1400], val_loss: 1.6665\n",
      "Epoch [1500], val_loss: 1.5912\n",
      "Epoch [1600], val_loss: 1.5191\n",
      "Epoch [1700], val_loss: 1.4508\n",
      "Epoch [1800], val_loss: 1.3858\n",
      "Epoch [1900], val_loss: 1.3238\n",
      "Epoch [2000], val_loss: 1.2650\n",
      "Epoch [2100], val_loss: 1.2092\n",
      "Epoch [2200], val_loss: 1.1559\n",
      "Epoch [2300], val_loss: 1.1068\n",
      "Epoch [2400], val_loss: 1.0602\n",
      "Epoch [2500], val_loss: 1.0159\n",
      "Epoch [2600], val_loss: 0.9741\n",
      "Epoch [2700], val_loss: 0.9343\n",
      "Epoch [2800], val_loss: 0.8974\n",
      "Epoch [2900], val_loss: 0.8631\n",
      "Epoch [3000], val_loss: 0.8312\n",
      "Epoch [3100], val_loss: 0.8021\n",
      "Epoch [3200], val_loss: 0.7757\n",
      "Epoch [3300], val_loss: 0.7513\n",
      "Epoch [3400], val_loss: 0.7293\n",
      "Epoch [3500], val_loss: 0.7102\n",
      "Epoch [3600], val_loss: 0.6934\n",
      "Epoch [3700], val_loss: 0.6795\n",
      "Epoch [3800], val_loss: 0.6676\n",
      "Epoch [3900], val_loss: 0.6571\n",
      "Epoch [4000], val_loss: 0.6485\n",
      "Epoch [4100], val_loss: 0.6413\n",
      "Epoch [4200], val_loss: 0.6351\n",
      "Epoch [4300], val_loss: 0.6301\n",
      "Epoch [4400], val_loss: 0.6254\n",
      "Epoch [4500], val_loss: 0.6222\n",
      "Epoch [4600], val_loss: 0.6193\n",
      "Epoch [4700], val_loss: 0.6171\n",
      "Epoch [4800], val_loss: 0.6153\n",
      "Epoch [4900], val_loss: 0.6138\n",
      "Epoch [5000], val_loss: 0.6125\n",
      "Epoch [5100], val_loss: 0.6117\n",
      "Epoch [5200], val_loss: 0.6109\n",
      "Epoch [5300], val_loss: 0.6103\n",
      "Epoch [5400], val_loss: 0.6098\n",
      "Epoch [5500], val_loss: 0.6096\n",
      "Epoch [5600], val_loss: 0.6093\n",
      "Epoch [5700], val_loss: 0.6090\n",
      "Epoch [5800], val_loss: 0.6088\n",
      "Epoch [5900], val_loss: 0.6087\n",
      "Epoch [6000], val_loss: 0.6085\n"
     ]
    }
   ],
   "source": [
    "epochs = 6000\n",
    "lr = 1e-6\n",
    "history5 = fit(epochs, lr, model, train_loader, val_loader)"
   ]
  },
  {
   "cell_type": "code",
   "execution_count": 42,
   "metadata": {},
   "outputs": [
    {
     "name": "stdout",
     "output_type": "stream",
     "text": [
      "{'val_loss': 0.6085487604141235}\n"
     ]
    }
   ],
   "source": [
    "'''\n",
    "Using linear regression with the pytorch module we are able to improve our score\n",
    "from 30% with linear regression with the sklearn module to 60%.\n",
    "It is still not great. Perhaps the data is not linearly related enough to make good\n",
    "predictions.\n",
    "'''\n",
    "\n",
    "result = evaluate(model, val_loader)\n",
    "print(result)"
   ]
  },
  {
   "cell_type": "code",
   "execution_count": 43,
   "metadata": {},
   "outputs": [
    {
     "data": {
      "image/png": "[encoded data removed]",
      "text/plain": [
       "<Figure size 432x288 with 1 Axes>"
      ]
     },
     "metadata": {
      "needs_background": "light"
     },
     "output_type": "display_data"
    }
   ],
   "source": [
    "plt.title('val_loss vs. No. of epochs');\n",
    "loss_mat = [res['val_loss'] for res in [result] + history5]\n",
    "plt.plot(loss_mat, '-x')\n",
    "plt.xlabel('epoch')\n",
    "plt.ylabel('val_loss')\n",
    "\n",
    "val_loss = loss_mat[-1]"
   ]
  },
  {
   "cell_type": "code",
   "execution_count": 44,
   "metadata": {},
   "outputs": [],
   "source": [
    "def predict_single(input, target, model):\n",
    "    inputs = input.unsqueeze(0)\n",
    "    predictions = model(inputs)\n",
    "    prediction = predictions[0].detach()\n",
    "    print('Input:', input)\n",
    "    print('Target:', target)\n",
    "    print('Prediction', prediction)"
   ]
  },
  {
   "cell_type": "code",
   "execution_count": 50,
   "metadata": {},
   "outputs": [
    {
     "name": "stdout",
     "output_type": "stream",
     "text": [
      "Input: tensor([7.9000e+00, 4.4000e-01, 2.6000e-01, 4.4500e+00, 3.3000e-02, 2.3000e+01,\n",
      "        1.0000e+02, 9.9117e-01, 3.1700e+00, 5.2000e-01, 1.2700e+01])\n",
      "Target: tensor([6.])\n",
      "Prediction tensor([6.8766])\n"
     ]
    }
   ],
   "source": [
    "input, target = val_ds[150]\n",
    "predict_single(input, target, model)"
   ]
  },
  {
   "cell_type": "code",
   "execution_count": null,
   "metadata": {},
   "outputs": [],
   "source": []
  }
 ],
 "metadata": {
  "kernelspec": {
   "display_name": "pytorch",
   "language": "python",
   "name": "pytorch"
  },
  "language_info": {
   "codemirror_mode": {
    "name": "ipython",
    "version": 3
   },
   "file_extension": ".py",
   "mimetype": "text/x-python",
   "name": "python",
   "nbconvert_exporter": "python",
   "pygments_lexer": "ipython3",
   "version": "3.7.9"
  }
 },
 "nbformat": 4,
 "nbformat_minor": 4
}
